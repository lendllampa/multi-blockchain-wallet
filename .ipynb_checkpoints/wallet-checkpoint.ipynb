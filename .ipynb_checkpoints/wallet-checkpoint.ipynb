{
 "cells": [
  {
   "cell_type": "code",
   "execution_count": 326,
   "id": "2583007b-4aad-45db-8989-501b46494a3e",
   "metadata": {},
   "outputs": [],
   "source": [
    "# Import dependencies\n",
    "import subprocess\n",
    "import json\n",
    "import os\n",
    "import inspect\n",
    "from bit import Key, PrivateKey, PrivateKeyTestnet\n",
    "from bit import *\n",
    "from bit.network import NetworkAPI\n",
    "from web3 import Web3, middleware, Account\n",
    "from bit import PrivateKeyTestnet\n",
    "# from eth_account import Account\n",
    "from getpass import getpass\n",
    "from pathlib import Path\n",
    "# from web3.middleware import geth_poa_middleware\n",
    "from dotenv import load_dotenv"
   ]
  },
  {
   "cell_type": "code",
   "execution_count": 94,
   "id": "2fda2fa8-7957-4b9b-a76c-d101caf6c6f4",
   "metadata": {},
   "outputs": [],
   "source": [
    "os.chdir(r'C:/Users/Lendl/Desktop/wallet')"
   ]
  },
  {
   "cell_type": "code",
   "execution_count": null,
   "id": "86911661-c7b7-4a8f-b7df-512bc0d7d70b",
   "metadata": {},
   "outputs": [],
   "source": [
    "# chainID = w3.eth.chain_ID"
   ]
  },
  {
   "cell_type": "code",
   "execution_count": 184,
   "id": "310e56bf-1a84-4e86-aab8-37e0426f32dc",
   "metadata": {},
   "outputs": [],
   "source": [
    "# Load and set environment variables\n",
    "load_dotenv()\n",
    "mnemonic=os.getenv(\"mnemonic\")"
   ]
  },
  {
   "cell_type": "code",
   "execution_count": 146,
   "id": "7aa931ea-a5e9-4c74-98ac-b790f880b521",
   "metadata": {},
   "outputs": [],
   "source": [
    "w3 = Web3(Web3.HTTPProvider(\"http://127.0.0.1:8545\"))\n",
    "w3.middleware_onion.inject(geth_poa_middleware, layer=0)"
   ]
  },
  {
   "cell_type": "code",
   "execution_count": 134,
   "id": "f600399f-005e-4cf8-aa53-befaebdb7bf0",
   "metadata": {},
   "outputs": [],
   "source": [
    "# Import constants.py and necessary functions from bit and web3\n",
    "from constants import BTC, ETH, BTCTEST"
   ]
  },
  {
   "cell_type": "code",
   "execution_count": 431,
   "id": "1fb66f24-b608-4199-9209-a1ec23e5b8e4",
   "metadata": {},
   "outputs": [],
   "source": [
    "# Create a function called `derive_wallets`\n",
    "def derive_wallets(phrase, coin, numderive):\n",
    "    command = f'php derive -g --mnemonic=\"{mnemonic}\" --cols=path,address,privkey,pubkey --coin=\"{coin}\" --numderive={numderive} --format=json'\n",
    "    p = subprocess.Popen(command, stdout=subprocess.PIPE, shell=True)\n",
    "    output, err = p.communicate()\n",
    "    p_status = p.wait()\n",
    "    return json.loads(output)"
   ]
  },
  {
   "cell_type": "code",
   "execution_count": 432,
   "id": "4080feae-3b63-4280-8bc5-12ecabe6ffb7",
   "metadata": {},
   "outputs": [
    {
     "data": {
      "text/plain": [
       "{'eth': [{'path': \"m/44'/60'/0'/0/0\",\n",
       "   'address': '0xfBb72CF96C633f79CFD1E92a8F2c27C3a39bEBD9',\n",
       "   'privkey': '0x63ed7ad5b18599d37b1da7f5a0dbef46abff0ecbcf0a068f9e899ccdd325c5a5',\n",
       "   'pubkey': '0343743f8b6373503ba39ff3a3a0de719e63077a1a7f3465458f1c2a783cb6f8db'},\n",
       "  {'path': \"m/44'/60'/0'/0/1\",\n",
       "   'address': '0x56F97cbe9794F95303E372A35445A791bb2c1CF6',\n",
       "   'privkey': '0x08ae15496a0fb55edc6f2cbc7a0c51fe6fcfcdbf26e84ee1a170c78812272dda',\n",
       "   'pubkey': '02c979f685bb405855a6f35a33b185d81bda8a185ba4e109e0814dbd76003ff844'},\n",
       "  {'path': \"m/44'/60'/0'/0/2\",\n",
       "   'address': '0xAb02eb178cc5Ca2bBaE41Ea7C8ffA86efa120673',\n",
       "   'privkey': '0xbffddd765873887025f65db342282f78eed637c7c44cb86a8c3fc3b7dbc55f1f',\n",
       "   'pubkey': '02e20d3f2610972f31e00e3074fd7c09db9fc3c0377b4bf1bd2003fbf05c7ad322'}],\n",
       " 'btc-test': [{'path': \"m/44'/1'/0'/0/0\",\n",
       "   'address': 'mtuwazor4ANd8YThSo2tCwaN2u8FUcXZ1s',\n",
       "   'privkey': 'cW8hsBuQzg63Wame9JZr5E6jQBzwG14bfEyo6qA7XQvPss1JN3vh',\n",
       "   'pubkey': '03911f4fca6f374693859f710cac1c25c70fdb25516935331dba7456823cdcf35d'},\n",
       "  {'path': \"m/44'/1'/0'/0/1\",\n",
       "   'address': 'mk7Eut7ogLPtnmeviGwZkh56vx4z6BH33d',\n",
       "   'privkey': 'cV2G3hU9xpo2vAkvKo5eYbPsaXUN99gKFrPE2LEnJ9N1DwbCSyWP',\n",
       "   'pubkey': '032dd8864483f07802fafb27448af325742ac35689cae0d840f8e29f3c20cd7dc6'},\n",
       "  {'path': \"m/44'/1'/0'/0/2\",\n",
       "   'address': 'mnRuZy7gaVWDeZ3Zo8fFRVmPRvX8CsG8SD',\n",
       "   'privkey': 'cQrzLhaPwLmhy6EaLJxFEu26mWzsAytAJ5Tfn11j7mFqoyEEvJc1',\n",
       "   'pubkey': '026b8dd5e3edb1ac33dfc11fba18150976ab11640849b7e8afa91701dfef156c27'}],\n",
       " 'btc': [{'path': \"m/44'/0'/0'/0/0\",\n",
       "   'address': '14L8am448m5u1yKTCrmam7iPTwVBWCNZrz',\n",
       "   'privkey': 'KwgffJSBcUFdxmboJ3dbZMHSnpE2U9sEzQvq7vG11Vzch8SeY8Mm',\n",
       "   'pubkey': '03377c35cabf035ca7d3cdbc7b9ed159b8cde918150043ec664fab5ecbaa312c77'},\n",
       "  {'path': \"m/44'/0'/0'/0/1\",\n",
       "   'address': '1NK5i5hgkHpPYie3eYFgSGbZjFxvumnbhX',\n",
       "   'privkey': 'L2yt5RnWxgov2y2AcxLY5zYwZpQWiHvsjxr6PN8Be8x7dVDBKoPG',\n",
       "   'pubkey': '025d8218c230954b62fbc3bbb0b3468d71ecf28dcc0590cc162f0f0f773c17b297'},\n",
       "  {'path': \"m/44'/0'/0'/0/2\",\n",
       "   'address': '193ThdDJQKF3cToMUZFSCJ8q8sYzjRwSey',\n",
       "   'privkey': 'L5ZczdaGzJBo982gbwGzQTqMGZMxjceYP9qPm8vh4pdRMvw18RCu',\n",
       "   'pubkey': '0292f3ed7d1abd880605e390bc676e5e195823ebe336b99b0c165511ae83ce2f03'},\n",
       "  {'path': \"m/44'/0'/0'/0/3\",\n",
       "   'address': '12vdFr8g3f7whLp6d8Yd6Q6sPkDmGvTkJe',\n",
       "   'privkey': 'L2PkM48bC8srLsEXCkYEWVu9QWHUvSEVZ4eiuRPDvPKiUe7bHivt',\n",
       "   'pubkey': '0200fc43522741f1a9740200c2b5504aa9f81db5895c2256513fe0e49905e4c239'},\n",
       "  {'path': \"m/44'/0'/0'/0/4\",\n",
       "   'address': '18emK2PcF9YEtQzoyhG2os9vxH5Ym4UsRd',\n",
       "   'privkey': 'L4jsygAMMJAFA6b83Nc9x7VmgRZuB8zJqEACXoCDTZ2Z5yGU4oke',\n",
       "   'pubkey': '02dc2b6f08f46f33e6da9522ddc9fe31b1d5e26953af1fdeeb6fbe621f1c55ad85'}]}"
      ]
     },
     "execution_count": 432,
     "metadata": {},
     "output_type": "execute_result"
    }
   ],
   "source": [
    "# Create a dictionary object called coins to store the output from `derive_wallets`.\n",
    "coins = {ETH : derive_wallets(mnemonic, ETH, 3), BTCTEST : derive_wallets(mnemonic, BTCTEST, 3), BTC : derive_wallets(mnemonic, BTC, 5)}\n",
    "coins"
   ]
  },
  {
   "cell_type": "code",
   "execution_count": 264,
   "id": "1970dc42-c244-43eb-a1d6-f493409c2bf9",
   "metadata": {},
   "outputs": [],
   "source": [
    "# Create a function called `priv_key_to_account` that converts privkey strings to account objects.\n",
    "def priv_key_to_account(coin, priv_key):\n",
    "    if coin == ETH:\n",
    "        return Account.privateKeyToAccount(priv_key)\n",
    "    elif coin == BTCTEST:\n",
    "        return bit.PrivateKeyTestnet(priv_key)\n"
   ]
  },
  {
   "cell_type": "code",
   "execution_count": 409,
   "id": "ce984fc1-428e-47f6-b1a8-6e2939453ff6",
   "metadata": {},
   "outputs": [],
   "source": [
    "# Create a function called `create_tx` that creates an unsigned transaction appropriate metadata.\n",
    "def create_tx(coin, account, recipient, amount):\n",
    "    if coin == ETH:\n",
    "        gasEstimate = w3.eth.estimateGas(\n",
    "            {\"from\": account.address, \"to\": recipient.address, \"value\": amount}\n",
    ")\n",
    "        return {\n",
    "            \"from\": account.address,\n",
    "            \"to\": recipient.address,\n",
    "            \"value\": amount,\n",
    "            \"gasPrice\": w3.eth.gasPrice,\n",
    "            \"gas\": gasEstimate,\n",
    "            \"nonce\": w3.eth.getTransactionCount(account.address)\n",
    "#             \"chainID\": w3.eth.chainId\n",
    "# Adding the \"chainID\":w3.eth.chainId\" causes an error when sending a transaction\n",
    "    }\n",
    "    elif coin == BTCTEST:\n",
    "        return PrivateKeyTestnet.prepare_transaction(account.address, [(recipient.address, amount, BTC)])\n"
   ]
  },
  {
   "cell_type": "code",
   "execution_count": 427,
   "id": "c1a7ec3d-7893-4b7c-9fbe-9ad64ad2c73e",
   "metadata": {},
   "outputs": [
    {
     "data": {
      "text/plain": [
       "'{\"unspents\":[{\"amount\":58209,\"confirmations\":0,\"script\":\"76a91492f29c855186c3d56cdb5dd099eecaa726b4c05388ac\",\"txid\":\"4c64f789cb04def730df9e930cb26abaf37415c073fb7bb63832ef50204d1a54\",\"txindex\":1,\"type\":\"p2pkh\",\"vsize\":148,\"segwit\":false,\"sequence\":4294967295}],\"outputs\":[[\"mk7Eut7ogLPtnmeviGwZkh56vx4z6BH33d\",100],[\"mtuwazor4ANd8YThSo2tCwaN2u8FUcXZ1s\",35057]]}'"
      ]
     },
     "execution_count": 427,
     "metadata": {},
     "output_type": "execute_result"
    }
   ],
   "source": [
    "create_tx(BTCTEST, priv_key_to_account(BTCTEST, coins[BTCTEST][0]['privkey']), priv_key_to_account(BTCTEST, coins[BTCTEST][1]['privkey']), 0.000001)"
   ]
  },
  {
   "cell_type": "code",
   "execution_count": 396,
   "id": "d2e12bee-bf89-4520-aa3a-5cf5890133ad",
   "metadata": {},
   "outputs": [],
   "source": [
    "# Create a function called `send_tx` that calls `create_tx`, signs and sends the transaction.\n",
    "def send_tx(coin, account, recipient, amount):\n",
    "    if coin == ETH:\n",
    "        raw_tx = create_tx(coin, account, recipient, amount)\n",
    "        signed_tx = account.sign_transaction(raw_tx)\n",
    "        result = w3.eth.sendRawTransaction(signed_tx.rawTransaction)\n",
    "        print(result.hex())\n",
    "        return result.hex()\n",
    "    elif coin == BTCTEST:\n",
    "        raw_tx = create_tx(coin, account, recipient, amount)\n",
    "        signed_tx = account.sign_transaction(raw_tx)\n",
    "        result = NetworkAPI.broadcast_tx_testnet(signed_tx)\n",
    "        print(signed_tx)\n",
    "        return result"
   ]
  },
  {
   "cell_type": "code",
   "execution_count": 424,
   "id": "bd8fd53f-69a0-4cd7-9e35-91c3f46323ab",
   "metadata": {},
   "outputs": [
    {
     "name": "stdout",
     "output_type": "stream",
     "text": [
      "0100000001f8b3a87abcdf2739b8a5d464064a0a22a391356a83efaff896568162c683c509010000006a47304402203969a73bc38b591be16a8a9de5781f6c83585a9c8b884f24819d6a9c6bb7b09e0220355b32ac6ca07ad44ae8dd66c0992bdfd0d15ff5b050f1c801775c83bba8f0da012103911f4fca6f374693859f710cac1c25c70fdb25516935331dba7456823cdcf35dffffffff0264000000000000001976a914325c8482703ab9e232ce55639a4ac632aed0e21788ac61e30000000000001976a91492f29c855186c3d56cdb5dd099eecaa726b4c05388ac00000000\n"
     ]
    }
   ],
   "source": [
    "send_tx(BTCTEST, priv_key_to_account(BTCTEST,coins[BTCTEST][0]['privkey']), priv_key_to_account(BTCTEST,coins[BTCTEST][1]['privkey']), 0.000001)"
   ]
  }
 ],
 "metadata": {
  "kernelspec": {
   "display_name": "Python 3",
   "language": "python",
   "name": "python3"
  },
  "language_info": {
   "codemirror_mode": {
    "name": "ipython",
    "version": 3
   },
   "file_extension": ".py",
   "mimetype": "text/x-python",
   "name": "python",
   "nbconvert_exporter": "python",
   "pygments_lexer": "ipython3",
   "version": "3.7.10"
  }
 },
 "nbformat": 4,
 "nbformat_minor": 5
}
